{
 "cells": [
  {
   "cell_type": "markdown",
   "metadata": {},
   "source": [
    "# Getting started\n",
    "\n",
    "Wether you want to typeset numbers, units, quantities or figure labels,\n",
    "you'll first need to import *mplunitx* and create an instance of the\n",
    "``sisetup`` class."
   ]
  },
  {
   "cell_type": "code",
   "execution_count": null,
   "metadata": {},
   "outputs": [],
   "source": [
    "from mplunitx import sisetup\n",
    "\n",
    "si = sisetup()"
   ]
  },
  {
   "cell_type": "markdown",
   "metadata": {},
   "source": [
    "Through the created instance you'll have access to the functions:"
   ]
  },
  {
   "cell_type": "code",
   "execution_count": null,
   "metadata": {},
   "outputs": [],
   "source": [
    "print(si.num(\"9.81\"))\n",
    "print(si.unit(\"meter;per.second.squared\"))\n",
    "print(si.qty(\"9.81\", \"meter;per.second.squared\"))\n",
    "print(si.label(\"a\", \"meter;per.second.squared\"))"
   ]
  },
  {
   "cell_type": "markdown",
   "metadata": {},
   "source": [
    "* ``si.num(\"9.81\")`` $\\rightarrow$ ``$9.81$`` $\\rightarrow 9.81$\n",
    "* ``si.unit(\"meter;per.second.squared\")`` $\\rightarrow$\n",
    "  ``$\\mathrm{m}\\,\\mathrm{s}^{-2}$`` $\\rightarrow \\mathrm{m}\\,\\mathrm{s}^{-2}$\n",
    "* ``si.qty(\"9.81\", \"meter;per.second.squared\")`` $\\rightarrow$\n",
    "  ``$9.81\\,\\mathrm{m}\\,\\mathrm{s}^{-2}$``\n",
    "  $\\rightarrow 9.81\\,\\mathrm{m}\\,\\mathrm{s}^{-2}$\n",
    "* ``si.label(\"a\", \"meter;per.second.squared\")`` $\\rightarrow$\n",
    "  ``${a}\\;/\\;\\mathrm{m}\\,\\mathrm{s}^{-2}$``\n",
    "  $\\rightarrow {a}\\;/\\;\\mathrm{m}\\,\\mathrm{s}^{-2}$"
   ]
  },
  {
   "cell_type": "markdown",
   "metadata": {},
   "source": [
    "## Units\n",
    "\n",
    "Units are passed to the methods in strings and in a similar format to\n",
    "the LaTeX package *siunitx*.\n",
    "\n",
    "If a unit consists of multiple units, they need to be seperated by a\n",
    "semicolon."
   ]
  },
  {
   "cell_type": "code",
   "execution_count": null,
   "metadata": {},
   "outputs": [],
   "source": [
    "print(si.unit(\"meter;second\"))"
   ]
  },
  {
   "cell_type": "markdown",
   "metadata": {},
   "source": [
    "$\\mathrm{m}\\,\\mathrm{s}$\n",
    "\n",
    "Prefixes and other keywords can be added to a unit seperated by dots\n",
    "``\".\"``."
   ]
  },
  {
   "cell_type": "code",
   "execution_count": null,
   "metadata": {},
   "outputs": [],
   "source": [
    "print(si.unit(\"kilo.meter;micro.second\"))"
   ]
  },
  {
   "cell_type": "markdown",
   "metadata": {},
   "source": [
    "$\\mathrm{km}\\,\\mathrm{µs}$\n",
    "\n",
    "The following keywords can be added in the same way: "
   ]
  },
  {
   "cell_type": "markdown",
   "metadata": {},
   "source": [
    "* ``per``: Inverse of the unit ``\"meter;per.second\"`` $\\rightarrow$ \n",
    "  $\\mathrm{m}\\,\\mathrm{s}^{-1}$\n",
    "* ``square``, ``squared``: Multipy power of the unit by $2$\n",
    "  ``\"meter;per.second.squared\"`` $\\rightarrow$ $\\mathrm{m}\\,\\mathrm{s}^{-2}$\n",
    "* ``cube``, ``cubed``: Multipy power of the unit by $3$\n",
    "  ``\"meter;per.second.cubed\"`` $\\rightarrow$ $\\mathrm{m}\\,\\mathrm{s}^{-3}$\n",
    "* ``float``, ``int``: Multipy power of the unit by the given number (can\n",
    "  be a negative number, but only one number per unit ``\";\"`` is allowed)\n",
    "  ``\"meter;second.-2\"`` $\\rightarrow$ $\\mathrm{m}\\,\\mathrm{s}^{-2}$\n",
    "\n",
    "The following input strings produce equivalent outputs:"
   ]
  },
  {
   "cell_type": "code",
   "execution_count": null,
   "metadata": {},
   "outputs": [],
   "source": [
    "print(si.unit(\"meter;per.square.second\"))\n",
    "print(si.unit(\"meter;per.second.squared\"))\n",
    "print(si.unit(\"meter;per.second.2\"))\n",
    "print(si.unit(\"meter;second.-2\"))"
   ]
  },
  {
   "cell_type": "markdown",
   "metadata": {},
   "source": [
    "For some units exist abbreviations, like"
   ]
  },
  {
   "cell_type": "code",
   "execution_count": null,
   "metadata": {},
   "outputs": [],
   "source": [
    "print(si.unit(\"m;s.-2\"))"
   ]
  },
  {
   "cell_type": "markdown",
   "metadata": {},
   "source": [
    "and also some abbreviations including a prefix:"
   ]
  },
  {
   "cell_type": "code",
   "execution_count": null,
   "metadata": {},
   "outputs": [],
   "source": [
    "print(si.unit(\"km;s.-2\"))"
   ]
  },
  {
   "cell_type": "markdown",
   "metadata": {},
   "source": [
    "$\\mathrm{km}\\,\\mathrm{s}^{-2}$"
   ]
  },
  {
   "cell_type": "markdown",
   "metadata": {},
   "source": [
    "A full list of available units and prefixes can be found in\n",
    "``mplunitx.unit.declared_units`` and ``mplunitx.unit.si_prefixes``.\n",
    "\n",
    "Additionally you can define your own units, when creating the\n",
    "``sisetup`` instance by passing a dictionary:"
   ]
  },
  {
   "cell_type": "code",
   "execution_count": null,
   "metadata": {},
   "outputs": [],
   "source": [
    "si = sisetup(declare_unit={\"arbitraryunit\": \"arb.\\,u.\"})\n",
    "print(si.unit(\"arbitraryunit\"))"
   ]
  },
  {
   "cell_type": "markdown",
   "metadata": {},
   "source": [
    "$\\mathrm{arb.\\,u.}$\n",
    "\n",
    "The keys need to be strings, which are used as input in the ``unit``\n",
    "method and the values need to be strings containing the LaTeX code.\n",
    "The LaTeX code you provide will be put into a math environment and\n",
    "enclosed in \"{}\". Depending on the ``unit_font_command`` setting, there\n",
    "will also be a command before the \"{}\" (Default: ``\\mathrm``). "
   ]
  },
  {
   "cell_type": "markdown",
   "metadata": {},
   "source": [
    "Options affecting the formatting and style of the units are explained in\n",
    "the *Unit options* tutorial."
   ]
  },
  {
   "cell_type": "markdown",
   "metadata": {},
   "source": [
    "## Numbers\n",
    "\n",
    "The current implementation of ``sisetup.num`` is just a dummy version\n",
    "returning the input string as is enclosed in ``\"$\"`` characters.\n",
    "Number formatting similar to the one in *siunitx* will get added in\n",
    "future releases."
   ]
  },
  {
   "cell_type": "markdown",
   "metadata": {},
   "source": [
    "## Quantities\n",
    "\n",
    "Quantities ``sisetup.qty`` are currently just numbers ``sisetup.num``\n",
    "concatenated with units ``sisetup.unit`` and a ``quantity_product``\n",
    "character inbetween."
   ]
  },
  {
   "cell_type": "markdown",
   "metadata": {},
   "source": [
    "## Labels\n",
    "\n",
    "Labels are similar to quantities, but instead of a number a variable\n",
    "is concatenated with a unit. The way they are combined is set by passing\n",
    "a ``label_unit_mode`` parameter to ``sisetup``."
   ]
  }
 ],
 "metadata": {
  "kernelspec": {
   "display_name": "siunitx",
   "language": "python",
   "name": "python3"
  },
  "language_info": {
   "codemirror_mode": {
    "name": "ipython",
    "version": 3
   },
   "file_extension": ".py",
   "mimetype": "text/x-python",
   "name": "python",
   "nbconvert_exporter": "python",
   "pygments_lexer": "ipython3",
   "version": "3.11.7"
  }
 },
 "nbformat": 4,
 "nbformat_minor": 2
}
