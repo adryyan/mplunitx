{
 "cells": [
  {
   "cell_type": "markdown",
   "metadata": {},
   "source": [
    "# Unit options\n",
    "The unit options are saved in the `unit_kw` attribute: "
   ]
  },
  {
   "cell_type": "code",
   "execution_count": null,
   "metadata": {},
   "outputs": [],
   "source": [
    "from siunitx import sisetup\n",
    "\n",
    "si = sisetup()\n",
    "print(si.unit_kw)"
   ]
  },
  {
   "cell_type": "markdown",
   "metadata": {},
   "source": [
    "They can be set when creating the `sistetup` instance:"
   ]
  },
  {
   "cell_type": "code",
   "execution_count": null,
   "metadata": {},
   "outputs": [],
   "source": [
    "# Default values\n",
    "si = sisetup(\n",
    "    inter_unit_product=r\"\\,\", per_mode=\"power\", per_symbol=\"/\",\n",
    "    bracket_unit_denominator=True, per_symbol_script_correction=r\"\\!\",\n",
    "    sticky_per=False, parse_units=True, unit_font_command=r\"\\mathrm\"\n",
    ")"
   ]
  },
  {
   "cell_type": "markdown",
   "metadata": {},
   "source": [
    "### `inter_unit_product`"
   ]
  },
  {
   "cell_type": "code",
   "execution_count": null,
   "metadata": {},
   "outputs": [],
   "source": [
    "print(si.unit(\"farad.squared;lumen;candela\"))\n",
    "print(si.unit(\"farad.squared;lumen;candela\", inter_unit_product=r\"\\cdot\"))"
   ]
  },
  {
   "cell_type": "markdown",
   "metadata": {},
   "source": [
    "$\\mathrm{F}^{2}\\,\\mathrm{lm}\\,\\mathrm{cd}$\n",
    "\n",
    "$\\mathrm{F}^{2}\\cdot\\mathrm{lm}\\cdot\\mathrm{cd}$"
   ]
  },
  {
   "cell_type": "markdown",
   "metadata": {},
   "source": [
    "### `per_mode`\n",
    "#### `per_mode = \"power\"`"
   ]
  },
  {
   "cell_type": "code",
   "execution_count": null,
   "metadata": {},
   "outputs": [],
   "source": [
    "# per_mode = \"power\"\n",
    "print(si.unit(\"joule;per.mole;per.kelvin\"))\n",
    "print(si.unit(\"metre;per.second.squared\"))"
   ]
  },
  {
   "cell_type": "markdown",
   "metadata": {},
   "source": [
    "$\\mathrm{J}\\,\\mathrm{mol}^{-1}\\,\\mathrm{K}^{-1}$\n",
    "\n",
    "$\\mathrm{m}\\,\\mathrm{s}^{-2}$"
   ]
  },
  {
   "cell_type": "markdown",
   "metadata": {},
   "source": [
    "#### `per_mode = \"fraction\"`"
   ]
  },
  {
   "cell_type": "code",
   "execution_count": null,
   "metadata": {},
   "outputs": [],
   "source": [
    "# per_mode = \"fraction\"\n",
    "print(si.unit(\"joule;per.mole;per.kelvin\", per_mode=\"fraction\"))\n",
    "print(si.unit(\"metre;per.second.squared\", per_mode=\"fraction\"))"
   ]
  },
  {
   "cell_type": "markdown",
   "metadata": {},
   "source": [
    "$\\frac{\\mathrm{J}}{\\mathrm{mol}\\,\\mathrm{K}}$\n",
    "\n",
    "$\\frac{\\mathrm{m}}{\\mathrm{s}^{2}}$"
   ]
  },
  {
   "cell_type": "markdown",
   "metadata": {},
   "source": [
    "#### `per_mode = \"power-positive-first\"`"
   ]
  },
  {
   "cell_type": "code",
   "execution_count": null,
   "metadata": {},
   "outputs": [],
   "source": [
    "# per_mode = \"power-positive-first\"\n",
    "print(si.unit(\"ampere;per.mole;second\"))\n",
    "print(si.unit(\"ampere;per.mole;second\", per_mode=\"power-positive-first\"))"
   ]
  },
  {
   "cell_type": "markdown",
   "metadata": {},
   "source": [
    "$\\mathrm{A}\\,\\mathrm{mol}^{-1}\\,\\mathrm{s}$\n",
    "\n",
    "$\\mathrm{A}\\,\\mathrm{s}\\,\\mathrm{mol}^{-1}$"
   ]
  },
  {
   "cell_type": "markdown",
   "metadata": {},
   "source": [
    "#### `per_mode = \"symbol\"`"
   ]
  },
  {
   "cell_type": "code",
   "execution_count": null,
   "metadata": {},
   "outputs": [],
   "source": [
    "# per_mode = \"symbol\"\n",
    "print(si.unit(\"joule;per.mole;per.kelvin\", per_mode=\"symbol\"))\n",
    "print(si.unit(\"metre;per.second.squared\", per_mode=\"symbol\"))\n",
    "print(si.unit(\"joule;per.mole;per.kelvin\", per_mode=\"symbol\",\n",
    "              per_symbol=\"\\\\text{ per }\"))\n",
    "print(si.unit(\"joule;per.mole;per.kelvin\", per_mode=\"symbol\",\n",
    "              bracket_unit_denominator=False))"
   ]
  },
  {
   "cell_type": "markdown",
   "metadata": {},
   "source": [
    "$\\mathrm{J}/(\\mathrm{mol}\\,\\mathrm{K})$\n",
    "\n",
    "$\\mathrm{m}/\\mathrm{s}^{2}$\n",
    "\n",
    "$\\mathrm{J}\\text{ per }(\\mathrm{mol}\\,\\mathrm{K})$\n",
    "\n",
    "$\\mathrm{J}/\\mathrm{mol}\\,\\mathrm{K}$"
   ]
  },
  {
   "cell_type": "markdown",
   "metadata": {},
   "source": [
    "#### `per_mode = \"single-symbol\"`"
   ]
  },
  {
   "cell_type": "code",
   "execution_count": null,
   "metadata": {},
   "outputs": [],
   "source": [
    "# per_mode = \"single-symbol\"\n",
    "print(si.unit(\"metre;per.second\", per_mode=\"single-symbol\"))\n",
    "print(si.unit(\"joule;per.mole;per.kelvin\", per_mode=\"single-symbol\"))"
   ]
  },
  {
   "cell_type": "markdown",
   "metadata": {},
   "source": [
    "$\\mathrm{m}/\\mathrm{s}$\n",
    "\n",
    "$\\mathrm{J}\\,\\mathrm{mol}^{-1}\\,\\mathrm{K}^{-1}$"
   ]
  },
  {
   "cell_type": "markdown",
   "metadata": {},
   "source": [
    "### `per_symbol_script_correction`"
   ]
  },
  {
   "cell_type": "code",
   "execution_count": null,
   "metadata": {},
   "outputs": [],
   "source": [
    "print(si.unit(\"cm.cubed;per.gram\", per_mode=\"symbol\"))\n",
    "print(si.unit(\"cm.cubed;per.gram\", per_mode=\"symbol\",\n",
    "              per_symbol_script_correction=\"\"))"
   ]
  },
  {
   "cell_type": "markdown",
   "metadata": {},
   "source": [
    "$\\mathrm{cm}^{3}\\!/\\mathrm{g}$\n",
    "\n",
    "$\\mathrm{cm}^{3}/\\mathrm{g}$"
   ]
  }
 ],
 "metadata": {
  "kernelspec": {
   "display_name": "siunitpy",
   "language": "python",
   "name": "python3"
  },
  "language_info": {
   "codemirror_mode": {
    "name": "ipython",
    "version": 3
   },
   "file_extension": ".py",
   "mimetype": "text/x-python",
   "name": "python",
   "nbconvert_exporter": "python",
   "pygments_lexer": "ipython3",
   "version": "3.11.7"
  }
 },
 "nbformat": 4,
 "nbformat_minor": 2
}
